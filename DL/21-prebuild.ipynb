{
 "cells": [
  {
   "cell_type": "code",
   "execution_count": 1,
   "id": "da6caeda",
   "metadata": {},
   "outputs": [],
   "source": [
    "import warnings\n",
    "warnings.filterwarnings('ignore')"
   ]
  },
  {
   "cell_type": "code",
   "execution_count": 3,
   "id": "2054b960",
   "metadata": {},
   "outputs": [],
   "source": [
    "import tensorflow as tf\n",
    "from keras.applications.resnet50 import ResNet50\n",
    "from keras.preprocessing import image\n",
    "from keras.applications.resnet50 import preprocess_input,decode_predictions\n",
    "import numpy as np"
   ]
  },
  {
   "cell_type": "code",
   "execution_count": 4,
   "id": "fc5c52bb",
   "metadata": {},
   "outputs": [
    {
     "name": "stdout",
     "output_type": "stream",
     "text": [
      "Downloading data from https://storage.googleapis.com/tensorflow/keras-applications/resnet/resnet50_weights_tf_dim_ordering_tf_kernels.h5\n",
      "\u001b[1m102967424/102967424\u001b[0m \u001b[32m━━━━━━━━━━━━━━━━━━━━\u001b[0m\u001b[37m\u001b[0m \u001b[1m20s\u001b[0m 0us/step\n"
     ]
    }
   ],
   "source": [
    "model=ResNet50(weights='imagenet')"
   ]
  },
  {
   "cell_type": "code",
   "execution_count": 5,
   "id": "e70bcc83",
   "metadata": {},
   "outputs": [],
   "source": [
    "img_path1='../image-dataset/train/bread.jpg'\n",
    "img_path2='../image-dataset/train/cat.jpg'\n",
    "img_path3='../image-dataset/train/german.jpg'\n",
    "img_path4='../image-dataset/train/swans.jpg'\n",
    "img_path5='../image-dataset/train/tomato.jpeg'"
   ]
  },
  {
   "cell_type": "code",
   "execution_count": 6,
   "id": "d43ba360",
   "metadata": {},
   "outputs": [],
   "source": [
    "img1=image.load_img(img_path1,target_size=(224,224))\n",
    "img2=image.load_img(img_path2,target_size=(224,224))\n",
    "img3=image.load_img(img_path3,target_size=(224,224))\n",
    "img4=image.load_img(img_path4,target_size=(224,224))\n",
    "img5=image.load_img(img_path5,target_size=(224,224))"
   ]
  },
  {
   "cell_type": "code",
   "execution_count": 8,
   "id": "b0fc7f32",
   "metadata": {},
   "outputs": [],
   "source": [
    "x1=image.img_to_array(img1)\n",
    "x1=np.expand_dims(x1,axis=0)\n",
    "x2=image.img_to_array(img2)\n",
    "x2=np.expand_dims(x2,axis=0)\n",
    "x3=image.img_to_array(img3)\n",
    "x3=np.expand_dims(x3,axis=0)\n",
    "x4=image.img_to_array(img4)\n",
    "x4=np.expand_dims(x4,axis=0)\n",
    "x5=image.img_to_array(img5)\n",
    "x5=np.expand_dims(x5,axis=0)"
   ]
  },
  {
   "cell_type": "code",
   "execution_count": 9,
   "id": "f3367165",
   "metadata": {},
   "outputs": [],
   "source": [
    "x1=preprocess_input(x1)\n",
    "x2=preprocess_input(x2)\n",
    "x3=preprocess_input(x3)\n",
    "x4=preprocess_input(x4)\n",
    "x5=preprocess_input(x5)"
   ]
  },
  {
   "cell_type": "code",
   "execution_count": 10,
   "id": "ef499d97",
   "metadata": {},
   "outputs": [
    {
     "name": "stdout",
     "output_type": "stream",
     "text": [
      "\u001b[1m1/1\u001b[0m \u001b[32m━━━━━━━━━━━━━━━━━━━━\u001b[0m\u001b[37m\u001b[0m \u001b[1m1s\u001b[0m 1s/step\n",
      "\u001b[1m1/1\u001b[0m \u001b[32m━━━━━━━━━━━━━━━━━━━━\u001b[0m\u001b[37m\u001b[0m \u001b[1m0s\u001b[0m 80ms/step\n",
      "\u001b[1m1/1\u001b[0m \u001b[32m━━━━━━━━━━━━━━━━━━━━\u001b[0m\u001b[37m\u001b[0m \u001b[1m0s\u001b[0m 77ms/step\n",
      "\u001b[1m1/1\u001b[0m \u001b[32m━━━━━━━━━━━━━━━━━━━━\u001b[0m\u001b[37m\u001b[0m \u001b[1m0s\u001b[0m 77ms/step\n",
      "\u001b[1m1/1\u001b[0m \u001b[32m━━━━━━━━━━━━━━━━━━━━\u001b[0m\u001b[37m\u001b[0m \u001b[1m0s\u001b[0m 79ms/step\n"
     ]
    }
   ],
   "source": [
    "pred1=model.predict(x1)\n",
    "pred2=model.predict(x2)\n",
    "pred3=model.predict(x3)\n",
    "pred4=model.predict(x4)\n",
    "pred5=model.predict(x5)"
   ]
  },
  {
   "cell_type": "code",
   "execution_count": 12,
   "id": "6ffad1fb",
   "metadata": {},
   "outputs": [
    {
     "data": {
      "text/plain": [
       "[('n07684084', 'French_loaf', np.float32(0.97884125)),\n",
       " ('n04442312', 'toaster', np.float32(0.018071868)),\n",
       " ('n03697007', 'lumbermill', np.float32(0.000639549))]"
      ]
     },
     "execution_count": 12,
     "metadata": {},
     "output_type": "execute_result"
    }
   ],
   "source": [
    "decode_predictions(pred1,top=3)[0]"
   ]
  },
  {
   "cell_type": "code",
   "execution_count": 13,
   "id": "d573bdb1",
   "metadata": {},
   "outputs": [
    {
     "data": {
      "text/plain": [
       "[('n02127052', 'lynx', np.float32(0.41379884)),\n",
       " ('n02123045', 'tabby', np.float32(0.16185059)),\n",
       " ('n02123159', 'tiger_cat', np.float32(0.10571194))]"
      ]
     },
     "execution_count": 13,
     "metadata": {},
     "output_type": "execute_result"
    }
   ],
   "source": [
    "decode_predictions(pred2,top=3)[0]"
   ]
  },
  {
   "cell_type": "code",
   "execution_count": 14,
   "id": "ef8865fd",
   "metadata": {},
   "outputs": [
    {
     "data": {
      "text/plain": [
       "[('n02106662', 'German_shepherd', np.float32(0.9990426)),\n",
       " ('n02105162', 'malinois', np.float32(0.00031144472)),\n",
       " ('n02105056', 'groenendael', np.float32(0.00026576218))]"
      ]
     },
     "execution_count": 14,
     "metadata": {},
     "output_type": "execute_result"
    }
   ],
   "source": [
    "decode_predictions(pred3,top=3)[0]"
   ]
  },
  {
   "cell_type": "code",
   "execution_count": 15,
   "id": "9dba732e",
   "metadata": {},
   "outputs": [
    {
     "data": {
      "text/plain": [
       "[('n01860187', 'black_swan', np.float32(0.30036813)),\n",
       " ('n01855672', 'goose', np.float32(0.24261558)),\n",
       " ('n04251144', 'snorkel', np.float32(0.10964249))]"
      ]
     },
     "execution_count": 15,
     "metadata": {},
     "output_type": "execute_result"
    }
   ],
   "source": [
    "decode_predictions(pred4,top=3)[0]"
   ]
  },
  {
   "cell_type": "code",
   "execution_count": 16,
   "id": "1bb3e402",
   "metadata": {},
   "outputs": [
    {
     "data": {
      "text/plain": [
       "[('n03461385', 'grocery_store', np.float32(0.5431619)),\n",
       " ('n07747607', 'orange', np.float32(0.28585714)),\n",
       " ('n07753592', 'banana', np.float32(0.057808504))]"
      ]
     },
     "execution_count": 16,
     "metadata": {},
     "output_type": "execute_result"
    }
   ],
   "source": [
    "decode_predictions(pred5,top=3)[0]"
   ]
  },
  {
   "cell_type": "code",
   "execution_count": null,
   "id": "e9f5dced",
   "metadata": {},
   "outputs": [],
   "source": []
  }
 ],
 "metadata": {
  "kernelspec": {
   "display_name": "tf_env",
   "language": "python",
   "name": "python3"
  },
  "language_info": {
   "codemirror_mode": {
    "name": "ipython",
    "version": 3
   },
   "file_extension": ".py",
   "mimetype": "text/x-python",
   "name": "python",
   "nbconvert_exporter": "python",
   "pygments_lexer": "ipython3",
   "version": "3.13.9"
  }
 },
 "nbformat": 4,
 "nbformat_minor": 5
}
